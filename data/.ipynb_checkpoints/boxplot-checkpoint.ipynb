{
 "cells": [
  {
   "cell_type": "code",
   "execution_count": 20,
   "metadata": {
    "collapsed": false
   },
   "outputs": [],
   "source": [
    "import pandas as pd\n",
    "import pymongo\n",
    "import seaborn\n",
    "%matplotlib inline"
   ]
  },
  {
   "cell_type": "code",
   "execution_count": 57,
   "metadata": {
    "collapsed": false
   },
   "outputs": [
    {
     "data": {
      "text/plain": [
       "<matplotlib.axes.AxesSubplot at 0x7fd6b7cdd750>"
      ]
     },
     "execution_count": 57,
     "metadata": {},
     "output_type": "execute_result"
    },
    {
     "data": {
      "image/png": "[encoded data removed]",
      "text/plain": [
       "<matplotlib.figure.Figure at 0x7fd6b7cddb90>"
      ]
     },
     "metadata": {},
     "output_type": "display_data"
    }
   ],
   "source": [
    "a = pymongo.MongoClient()\n",
    "data = a.test.morpho.aggregate([\n",
    "        {\"$match\": {\"tint\": \"AT8\"}}, \n",
    "        {\"$group\" : {\"_id\": \"$region\", \"value\": {\"$addToSet\": \"$cells/volume (mm3)\"} } }, \n",
    "        {\"$project\" : { \"label\": \"$_id\", \"value\":1 , \"_id\": 0}}, \n",
    "        {\"$sort\" : { \"label\": 1 } }\n",
    "    ])[\"result\"]\n",
    "\n",
    "sorter = [\"DG\",\"CA3\",\"CA1\",\"SUB\"]\n",
    "sorterIndex = dict(zip(sorter,range(len(sorter))))\n",
    "\n",
    "\n",
    "df = pd.DataFrame(data)\n",
    "df = df.set_index(\"label\")\n",
    "\n",
    "seaborn.plt.figure(1, (8,4))\n",
    "seaborn.boxplot(df.ix[sorter].value, names=list(df.index))"
   ]
  }
 ],
 "metadata": {
  "kernelspec": {
   "display_name": "Python 2",
   "language": "python",
   "name": "python2"
  },
  "language_info": {
   "codemirror_mode": {
    "name": "ipython",
    "version": 2
   },
   "file_extension": ".py",
   "mimetype": "text/x-python",
   "name": "python",
   "nbconvert_exporter": "python",
   "pygments_lexer": "ipython2",
   "version": "2.7.6"
  }
 },
 "nbformat": 4,
 "nbformat_minor": 0
}
